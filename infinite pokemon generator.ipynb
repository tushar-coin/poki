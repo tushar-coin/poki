{
 "cells": [
  {
   "cell_type": "code",
   "execution_count": 1,
   "id": "c62a09a5",
   "metadata": {},
   "outputs": [],
   "source": [
    "import pandas as pd\n",
    "import numpy as np\n"
   ]
  },
  {
   "cell_type": "code",
   "execution_count": 2,
   "id": "4961bf11",
   "metadata": {},
   "outputs": [],
   "source": [
    "df=pd.read_csv('pokemon_data.csv')"
   ]
  },
  {
   "cell_type": "code",
   "execution_count": 3,
   "id": "154696fa",
   "metadata": {},
   "outputs": [
    {
     "data": {
      "text/html": [
       "<div>\n",
       "<style scoped>\n",
       "    .dataframe tbody tr th:only-of-type {\n",
       "        vertical-align: middle;\n",
       "    }\n",
       "\n",
       "    .dataframe tbody tr th {\n",
       "        vertical-align: top;\n",
       "    }\n",
       "\n",
       "    .dataframe thead th {\n",
       "        text-align: right;\n",
       "    }\n",
       "</style>\n",
       "<table border=\"1\" class=\"dataframe\">\n",
       "  <thead>\n",
       "    <tr style=\"text-align: right;\">\n",
       "      <th></th>\n",
       "      <th>#</th>\n",
       "      <th>Name</th>\n",
       "      <th>Type 1</th>\n",
       "      <th>Type 2</th>\n",
       "      <th>HP</th>\n",
       "      <th>Attack</th>\n",
       "      <th>Defense</th>\n",
       "      <th>Sp. Atk</th>\n",
       "      <th>Sp. Def</th>\n",
       "      <th>Speed</th>\n",
       "      <th>Generation</th>\n",
       "      <th>Legendary</th>\n",
       "    </tr>\n",
       "  </thead>\n",
       "  <tbody>\n",
       "    <tr>\n",
       "      <th>0</th>\n",
       "      <td>1</td>\n",
       "      <td>Bulbasaur</td>\n",
       "      <td>Grass</td>\n",
       "      <td>Poison</td>\n",
       "      <td>45</td>\n",
       "      <td>49</td>\n",
       "      <td>49</td>\n",
       "      <td>65</td>\n",
       "      <td>65</td>\n",
       "      <td>45</td>\n",
       "      <td>1</td>\n",
       "      <td>False</td>\n",
       "    </tr>\n",
       "    <tr>\n",
       "      <th>1</th>\n",
       "      <td>2</td>\n",
       "      <td>Ivysaur</td>\n",
       "      <td>Grass</td>\n",
       "      <td>Poison</td>\n",
       "      <td>60</td>\n",
       "      <td>62</td>\n",
       "      <td>63</td>\n",
       "      <td>80</td>\n",
       "      <td>80</td>\n",
       "      <td>60</td>\n",
       "      <td>1</td>\n",
       "      <td>False</td>\n",
       "    </tr>\n",
       "    <tr>\n",
       "      <th>2</th>\n",
       "      <td>3</td>\n",
       "      <td>Venusaur</td>\n",
       "      <td>Grass</td>\n",
       "      <td>Poison</td>\n",
       "      <td>80</td>\n",
       "      <td>82</td>\n",
       "      <td>83</td>\n",
       "      <td>100</td>\n",
       "      <td>100</td>\n",
       "      <td>80</td>\n",
       "      <td>1</td>\n",
       "      <td>False</td>\n",
       "    </tr>\n",
       "    <tr>\n",
       "      <th>3</th>\n",
       "      <td>3</td>\n",
       "      <td>VenusaurMega Venusaur</td>\n",
       "      <td>Grass</td>\n",
       "      <td>Poison</td>\n",
       "      <td>80</td>\n",
       "      <td>100</td>\n",
       "      <td>123</td>\n",
       "      <td>122</td>\n",
       "      <td>120</td>\n",
       "      <td>80</td>\n",
       "      <td>1</td>\n",
       "      <td>False</td>\n",
       "    </tr>\n",
       "    <tr>\n",
       "      <th>4</th>\n",
       "      <td>4</td>\n",
       "      <td>Charmander</td>\n",
       "      <td>Fire</td>\n",
       "      <td>NaN</td>\n",
       "      <td>39</td>\n",
       "      <td>52</td>\n",
       "      <td>43</td>\n",
       "      <td>60</td>\n",
       "      <td>50</td>\n",
       "      <td>65</td>\n",
       "      <td>1</td>\n",
       "      <td>False</td>\n",
       "    </tr>\n",
       "  </tbody>\n",
       "</table>\n",
       "</div>"
      ],
      "text/plain": [
       "   #                   Name Type 1  Type 2  HP  Attack  Defense  Sp. Atk  \\\n",
       "0  1              Bulbasaur  Grass  Poison  45      49       49       65   \n",
       "1  2                Ivysaur  Grass  Poison  60      62       63       80   \n",
       "2  3               Venusaur  Grass  Poison  80      82       83      100   \n",
       "3  3  VenusaurMega Venusaur  Grass  Poison  80     100      123      122   \n",
       "4  4             Charmander   Fire     NaN  39      52       43       60   \n",
       "\n",
       "   Sp. Def  Speed  Generation  Legendary  \n",
       "0       65     45           1      False  \n",
       "1       80     60           1      False  \n",
       "2      100     80           1      False  \n",
       "3      120     80           1      False  \n",
       "4       50     65           1      False  "
      ]
     },
     "execution_count": 3,
     "metadata": {},
     "output_type": "execute_result"
    }
   ],
   "source": [
    "df.head()"
   ]
  },
  {
   "cell_type": "code",
   "execution_count": 37,
   "id": "e99f2445",
   "metadata": {},
   "outputs": [
    {
     "data": {
      "text/plain": [
       "#             False\n",
       "Name          False\n",
       "Type 1        False\n",
       "Type 2         True\n",
       "HP            False\n",
       "Attack        False\n",
       "Defense       False\n",
       "Sp. Atk       False\n",
       "Sp. Def       False\n",
       "Speed         False\n",
       "Generation    False\n",
       "Legendary     False\n",
       "dtype: bool"
      ]
     },
     "execution_count": 37,
     "metadata": {},
     "output_type": "execute_result"
    }
   ],
   "source": [
    "df.isnull().sum()\n",
    "df.isnull().sum().sum()\n",
    "df.isnull().any()\n",
    "df.isnull().any()\n"
   ]
  },
  {
   "cell_type": "markdown",
   "id": "e0b3cc90",
   "metadata": {},
   "source": [
    "### data cleaning and transformation"
   ]
  },
  {
   "cell_type": "code",
   "execution_count": 33,
   "id": "1519e189",
   "metadata": {},
   "outputs": [
    {
     "name": "stdout",
     "output_type": "stream",
     "text": [
      "Empty DataFrame\n",
      "Columns: [#, Name, Type 1, Type 2, HP, Attack, Defense, Sp. Atk, Sp. Def, Speed, Generation, Legendary]\n",
      "Index: []\n"
     ]
    }
   ],
   "source": [
    "print (df.isna().any(axis=1))  # returns rows with any with any value being negative\n",
    "\n",
    "print (df.isna().any(axis=1))  # axis 1 for rows and 0 for columns\n",
    "\n",
    "print (df[df.isna().any(axis=1)])\n",
    "\n",
    "print (df[df.isna().all(axis=1)])  \n"
   ]
  },
  {
   "cell_type": "code",
   "execution_count": 36,
   "id": "62e260a9",
   "metadata": {},
   "outputs": [
    {
     "name": "stdout",
     "output_type": "stream",
     "text": [
      "800\n"
     ]
    }
   ],
   "source": [
    "# saving all possible index of type2 to genrate random type for nan and future cards\n",
    "\n",
    "idx_Type2=[]\n",
    "\n",
    "row_Of_Dataframe=len(df.index)\n",
    "\n",
    "print(row_Of_Dataframe)"
   ]
  },
  {
   "cell_type": "code",
   "execution_count": 74,
   "id": "f275f3c7",
   "metadata": {},
   "outputs": [],
   "source": [
    "for i in range (0,800):\n",
    "    if(pd.notnull(df.iloc[i,3])):\n",
    "        idx_Type2.append(i)"
   ]
  },
  {
   "cell_type": "code",
   "execution_count": 83,
   "id": "7e5ab1ff",
   "metadata": {},
   "outputs": [],
   "source": [
    "# randomly filled all the values of type2 using other ranndom values\n",
    "import random\n",
    "df.loc[(pd.isnull(df[\"Type 2\"])), ['Type 2']] = df.iloc[random.choice(idx_Type2),3] "
   ]
  },
  {
   "cell_type": "code",
   "execution_count": 84,
   "id": "996cd72f",
   "metadata": {},
   "outputs": [
    {
     "data": {
      "text/plain": [
       "#             False\n",
       "Name          False\n",
       "Type 1        False\n",
       "Type 2        False\n",
       "HP            False\n",
       "Attack        False\n",
       "Defense       False\n",
       "Sp. Atk       False\n",
       "Sp. Def       False\n",
       "Speed         False\n",
       "Generation    False\n",
       "Legendary     False\n",
       "dtype: bool"
      ]
     },
     "execution_count": 84,
     "metadata": {},
     "output_type": "execute_result"
    }
   ],
   "source": [
    "df.isna().any()"
   ]
  },
  {
   "cell_type": "markdown",
   "id": "670bafd2",
   "metadata": {},
   "source": [
    "###### finally data transformation is done now lets generate pokemon"
   ]
  },
  {
   "cell_type": "markdown",
   "id": "7eb6c0fc",
   "metadata": {},
   "source": [
    "# Run next cell to generate a new pokemon"
   ]
  },
  {
   "cell_type": "code",
   "execution_count": 88,
   "id": "de438a56",
   "metadata": {},
   "outputs": [
    {
     "name": "stdout",
     "output_type": "stream",
     "text": [
      "enter name of pokemon\n",
      "tushar\n",
      "\n",
      "tushar Dragon Flying 95 120 55 110 71 2 False\n",
      "1 to save and 2 to regenrate\n",
      "2\n",
      "enter name of pokemon\n",
      "rajan\n",
      "\n",
      "rajan Normal Flying 78 90 30 40 100 6 False\n",
      "1 to save and 2 to regenrate\n",
      "1\n"
     ]
    }
   ],
   "source": [
    "def poki_gen():\n",
    "    print(\"enter name of pokemon\")\n",
    "    name=input()\n",
    "    print()\n",
    "\n",
    "    type_1_of_New_Pokemon=df.iloc[random.randrange(800),2]\n",
    "\n",
    "    type_2_of_New_Pokemon=df.iloc[random.randrange(800),3]\n",
    "\n",
    "    hp_of_New_Pokemon=df.iloc[random.randrange(800),4]\n",
    "\n",
    "    attack_of_New_Pokemon=df.iloc[random.randrange(800),5]\n",
    "\n",
    "    defense_of_New_Pokemon=df.iloc[random.randrange(800),6]\n",
    "\n",
    "    sp_Atk_of_New_Pokemon=df.iloc[random.randrange(800),7]\n",
    "\n",
    "    sp_Def_of_New_Pokemon=df.iloc[random.randrange(800),8]\n",
    "\n",
    "    Speed_of_New_Pokemon=df.iloc[random.randrange(800),9]\n",
    "\n",
    "    generatiob_of_New_Pokemon=df.iloc[random.randrange(800),10]\n",
    "\n",
    "    legendary_of_New_Pokemon=df.iloc[random.randrange(800),11]\n",
    "\n",
    "    print(name+\" \"+type_1_of_New_Pokemon+\" \"+type_2_of_New_Pokemon+\" \"+str(hp_of_New_Pokemon)+\" \"+str(attack_of_New_Pokemon)+\" \"+str(defense_of_New_Pokemon)\n",
    "         +\" \"+str(sp_Atk_of_New_Pokemon)+\" \"+str(Speed_of_New_Pokemon)+\" \"+str(generatiob_of_New_Pokemon)+\" \"+str(legendary_of_New_Pokemon))\n",
    "    print(\"1 to save and 2 to regenrate\")\n",
    "    choice=input()\n",
    "    if(choice==\"1\"):\n",
    "        row=len(df.index)\n",
    "        df.loc[len(df.index)]=[row,name,type_1_of_New_Pokemon,type_2_of_New_Pokemon,hp_of_New_Pokemon,attack_of_New_Pokemon,\n",
    "                              defense_of_New_Pokemon,sp_Atk_of_New_Pokemon,sp_Def_of_New_Pokemon,Speed_of_New_Pokemon,\n",
    "                              generatiob_of_New_Pokemon,legendary_of_New_Pokemon]\n",
    "        return\n",
    "    else:\n",
    "        poki_gen()\n",
    "        \n",
    "poki_gen()\n",
    "        \n"
   ]
  },
  {
   "cell_type": "code",
   "execution_count": 89,
   "id": "9dfea896",
   "metadata": {},
   "outputs": [
    {
     "data": {
      "text/html": [
       "<div>\n",
       "<style scoped>\n",
       "    .dataframe tbody tr th:only-of-type {\n",
       "        vertical-align: middle;\n",
       "    }\n",
       "\n",
       "    .dataframe tbody tr th {\n",
       "        vertical-align: top;\n",
       "    }\n",
       "\n",
       "    .dataframe thead th {\n",
       "        text-align: right;\n",
       "    }\n",
       "</style>\n",
       "<table border=\"1\" class=\"dataframe\">\n",
       "  <thead>\n",
       "    <tr style=\"text-align: right;\">\n",
       "      <th></th>\n",
       "      <th>#</th>\n",
       "      <th>Name</th>\n",
       "      <th>Type 1</th>\n",
       "      <th>Type 2</th>\n",
       "      <th>HP</th>\n",
       "      <th>Attack</th>\n",
       "      <th>Defense</th>\n",
       "      <th>Sp. Atk</th>\n",
       "      <th>Sp. Def</th>\n",
       "      <th>Speed</th>\n",
       "      <th>Generation</th>\n",
       "      <th>Legendary</th>\n",
       "    </tr>\n",
       "  </thead>\n",
       "  <tbody>\n",
       "    <tr>\n",
       "      <th>800</th>\n",
       "      <td>800</td>\n",
       "      <td>rajan</td>\n",
       "      <td>Normal</td>\n",
       "      <td>Flying</td>\n",
       "      <td>78</td>\n",
       "      <td>90</td>\n",
       "      <td>30</td>\n",
       "      <td>40</td>\n",
       "      <td>138</td>\n",
       "      <td>100</td>\n",
       "      <td>6</td>\n",
       "      <td>False</td>\n",
       "    </tr>\n",
       "  </tbody>\n",
       "</table>\n",
       "</div>"
      ],
      "text/plain": [
       "       #   Name  Type 1  Type 2  HP  Attack  Defense  Sp. Atk  Sp. Def  Speed  \\\n",
       "800  800  rajan  Normal  Flying  78      90       30       40      138    100   \n",
       "\n",
       "     Generation  Legendary  \n",
       "800           6      False  "
      ]
     },
     "execution_count": 89,
     "metadata": {},
     "output_type": "execute_result"
    }
   ],
   "source": [
    "df.tail(1)"
   ]
  },
  {
   "cell_type": "code",
   "execution_count": null,
   "id": "5eb0c24e",
   "metadata": {},
   "outputs": [],
   "source": [
    "#task 1 to add give user a choice to what level they want pokimon to be\n",
    "\n",
    "#task 2 use some phonetic naming db to mix names and genrate pokimon names"
   ]
  }
 ],
 "metadata": {
  "kernelspec": {
   "display_name": "Python 3 (ipykernel)",
   "language": "python",
   "name": "python3"
  },
  "language_info": {
   "codemirror_mode": {
    "name": "ipython",
    "version": 3
   },
   "file_extension": ".py",
   "mimetype": "text/x-python",
   "name": "python",
   "nbconvert_exporter": "python",
   "pygments_lexer": "ipython3",
   "version": "3.11.4"
  }
 },
 "nbformat": 4,
 "nbformat_minor": 5
}
